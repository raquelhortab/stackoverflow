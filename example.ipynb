{
  "nbformat": 4,
  "nbformat_minor": 0,
  "metadata": {
    "colab": {
      "name": "Untitled0.ipynb",
      "provenance": [],
      "collapsed_sections": []
    },
    "kernelspec": {
      "name": "python3",
      "display_name": "Python 3"
    },
    "language_info": {
      "name": "python"
    }
  },
  "cells": [
    {
      "cell_type": "code",
      "metadata": {
        "id": "UV4ox7RCsOWX"
      },
      "source": [
        "# TensorFlow and tf.keras\n",
        "import tensorflow as tf\n",
        "from tensorflow.keras import layers\n",
        "from keras.regularizers import L1L2\n",
        "\n",
        "# Helper libraries\n",
        "import numpy as np\n",
        "import matplotlib.pyplot as plt\n",
        "import os\n",
        "import pathlib\n",
        "import PIL\n",
        "import PIL.Image\n",
        "import pickle\n",
        "import time\n",
        "import seaborn"
      ],
      "execution_count": 1,
      "outputs": []
    },
    {
      "cell_type": "code",
      "metadata": {
        "colab": {
          "base_uri": "https://localhost:8080/"
        },
        "id": "qtUu5GEksoxe",
        "outputId": "9a03e4a1-bc34-4c48-fc83-e6137ba320b0"
      },
      "source": [
        "data_path = tf.keras.utils.get_file(\n",
        "    \"anuka1200\",\n",
        "    \"https://github.com/raquelhortab/stackoverflow/raw/main/anuka1200.tar.gz\",\n",
        "    untar=True)\n",
        "a_folder = \"Tipo A: Kunzea\"\n",
        "b_folder = \"Tipo B: Lepto\"\n",
        "data_dir = pathlib.Path(data_path) \n",
        "len(list(data_dir.glob('*/*.png')))"
      ],
      "execution_count": 2,
      "outputs": [
        {
          "output_type": "execute_result",
          "data": {
            "text/plain": [
              "2400"
            ]
          },
          "metadata": {
            "tags": []
          },
          "execution_count": 2
        }
      ]
    },
    {
      "cell_type": "code",
      "metadata": {
        "id": "Ur9L7HqstNt6"
      },
      "source": [
        "batch_size = 32\n",
        "img_height = 180\n",
        "img_width = 180\n",
        "image_size = (180,180)"
      ],
      "execution_count": 3,
      "outputs": []
    },
    {
      "cell_type": "code",
      "metadata": {
        "colab": {
          "base_uri": "https://localhost:8080/"
        },
        "id": "v1d654eNt1ae",
        "outputId": "3436112f-c469-4100-ec83-8f48a211fd36"
      },
      "source": [
        "train_ds = tf.keras.preprocessing.image_dataset_from_directory(\n",
        "    data_path,\n",
        "    label_mode='categorical',\n",
        "    validation_split=0.2,\n",
        "    subset=\"training\",\n",
        "    seed=1337,\n",
        "    image_size=image_size,\n",
        "    batch_size=batch_size,\n",
        ")\n",
        "test_ds = tf.keras.preprocessing.image_dataset_from_directory(\n",
        "    data_path,\n",
        "    label_mode='categorical',\n",
        "    validation_split=0.2,\n",
        "    subset=\"validation\",\n",
        "    seed=1337,\n",
        "    image_size=image_size,\n",
        "    batch_size=batch_size,\n",
        ")\n"
      ],
      "execution_count": 4,
      "outputs": [
        {
          "output_type": "stream",
          "text": [
            "Found 2400 files belonging to 2 classes.\n",
            "Using 1920 files for training.\n",
            "Found 2400 files belonging to 2 classes.\n",
            "Using 480 files for validation.\n"
          ],
          "name": "stdout"
        }
      ]
    },
    {
      "cell_type": "code",
      "metadata": {
        "colab": {
          "base_uri": "https://localhost:8080/"
        },
        "id": "Ghqp5tQct4bK",
        "outputId": "63554209-57e1-4eb6-d0d2-7c72d73bc643"
      },
      "source": [
        "model = tf.keras.Sequential()\n",
        "model.add(tf.keras.layers.Flatten(input_shape=(img_width, img_height,3)))\n",
        "model.add(tf.keras.layers.experimental.preprocessing.Rescaling(1./255))\n",
        "model.add(tf.keras.layers.Dense(2, activation=tf.keras.activations.softmax))\n",
        "model.compile(optimizer=tf.keras.optimizers.Adam(0.001),\n",
        "              loss=tf.keras.losses.categorical_crossentropy,\n",
        "              metrics=['accuracy'])\n",
        "model.build()\n",
        "model.summary()\n",
        "model.fit(train_ds, validation_data=test_ds, epochs=20)"
      ],
      "execution_count": 5,
      "outputs": [
        {
          "output_type": "stream",
          "text": [
            "Model: \"sequential\"\n",
            "_________________________________________________________________\n",
            "Layer (type)                 Output Shape              Param #   \n",
            "=================================================================\n",
            "flatten (Flatten)            (None, 97200)             0         \n",
            "_________________________________________________________________\n",
            "rescaling (Rescaling)        (None, 97200)             0         \n",
            "_________________________________________________________________\n",
            "dense (Dense)                (None, 2)                 194402    \n",
            "=================================================================\n",
            "Total params: 194,402\n",
            "Trainable params: 194,402\n",
            "Non-trainable params: 0\n",
            "_________________________________________________________________\n",
            "Epoch 1/20\n",
            "60/60 [==============================] - 5s 65ms/step - loss: 0.6363 - accuracy: 0.7642 - val_loss: 0.5352 - val_accuracy: 0.8188\n",
            "Epoch 2/20\n",
            "60/60 [==============================] - 4s 58ms/step - loss: 0.3745 - accuracy: 0.8513 - val_loss: 0.5725 - val_accuracy: 0.8458\n",
            "Epoch 3/20\n",
            "60/60 [==============================] - 4s 60ms/step - loss: 0.3588 - accuracy: 0.8730 - val_loss: 0.5044 - val_accuracy: 0.8479\n",
            "Epoch 4/20\n",
            "60/60 [==============================] - 4s 60ms/step - loss: 0.3389 - accuracy: 0.8786 - val_loss: 0.5464 - val_accuracy: 0.8458\n",
            "Epoch 5/20\n",
            "60/60 [==============================] - 4s 62ms/step - loss: 0.2901 - accuracy: 0.8883 - val_loss: 0.5507 - val_accuracy: 0.8500\n",
            "Epoch 6/20\n",
            "60/60 [==============================] - 4s 63ms/step - loss: 0.2650 - accuracy: 0.9018 - val_loss: 0.5440 - val_accuracy: 0.8333\n",
            "Epoch 7/20\n",
            "60/60 [==============================] - 4s 61ms/step - loss: 0.2786 - accuracy: 0.8832 - val_loss: 0.5982 - val_accuracy: 0.8375\n",
            "Epoch 8/20\n",
            "60/60 [==============================] - 4s 63ms/step - loss: 0.3185 - accuracy: 0.8725 - val_loss: 0.6296 - val_accuracy: 0.8417\n",
            "Epoch 9/20\n",
            "60/60 [==============================] - 4s 64ms/step - loss: 0.2595 - accuracy: 0.9083 - val_loss: 0.7114 - val_accuracy: 0.8292\n",
            "Epoch 10/20\n",
            "60/60 [==============================] - 4s 64ms/step - loss: 0.2368 - accuracy: 0.9055 - val_loss: 0.8004 - val_accuracy: 0.8042\n",
            "Epoch 11/20\n",
            "60/60 [==============================] - 4s 64ms/step - loss: 0.2585 - accuracy: 0.9050 - val_loss: 0.6446 - val_accuracy: 0.8208\n",
            "Epoch 12/20\n",
            "60/60 [==============================] - 4s 63ms/step - loss: 0.2299 - accuracy: 0.9010 - val_loss: 0.6318 - val_accuracy: 0.8271\n",
            "Epoch 13/20\n",
            "60/60 [==============================] - 4s 62ms/step - loss: 0.1981 - accuracy: 0.9236 - val_loss: 0.7969 - val_accuracy: 0.8146\n",
            "Epoch 14/20\n",
            "60/60 [==============================] - 4s 64ms/step - loss: 0.2484 - accuracy: 0.9034 - val_loss: 0.7067 - val_accuracy: 0.8375\n",
            "Epoch 15/20\n",
            "60/60 [==============================] - 4s 64ms/step - loss: 0.2129 - accuracy: 0.9123 - val_loss: 0.7107 - val_accuracy: 0.8208\n",
            "Epoch 16/20\n",
            "60/60 [==============================] - 4s 65ms/step - loss: 0.2207 - accuracy: 0.9192 - val_loss: 0.6729 - val_accuracy: 0.8354\n",
            "Epoch 17/20\n",
            "60/60 [==============================] - 4s 67ms/step - loss: 0.1832 - accuracy: 0.9251 - val_loss: 0.6954 - val_accuracy: 0.8250\n",
            "Epoch 18/20\n",
            "60/60 [==============================] - 5s 75ms/step - loss: 0.1741 - accuracy: 0.9327 - val_loss: 0.9312 - val_accuracy: 0.8104\n",
            "Epoch 19/20\n",
            "60/60 [==============================] - 5s 81ms/step - loss: 0.2109 - accuracy: 0.9167 - val_loss: 0.7168 - val_accuracy: 0.8208\n",
            "Epoch 20/20\n",
            "60/60 [==============================] - 5s 68ms/step - loss: 0.2207 - accuracy: 0.9157 - val_loss: 0.7663 - val_accuracy: 0.8292\n"
          ],
          "name": "stdout"
        },
        {
          "output_type": "execute_result",
          "data": {
            "text/plain": [
              "<tensorflow.python.keras.callbacks.History at 0x7f394eeedbd0>"
            ]
          },
          "metadata": {
            "tags": []
          },
          "execution_count": 5
        }
      ]
    },
    {
      "cell_type": "code",
      "metadata": {
        "colab": {
          "base_uri": "https://localhost:8080/"
        },
        "id": "2UvNkINVt9UU",
        "outputId": "9df2724e-7b4e-4e4f-d299-9a604975c888"
      },
      "source": [
        "model.predict(test_ds)[0]"
      ],
      "execution_count": 6,
      "outputs": [
        {
          "output_type": "execute_result",
          "data": {
            "text/plain": [
              "array([0.10411204, 0.89588803], dtype=float32)"
            ]
          },
          "metadata": {
            "tags": []
          },
          "execution_count": 6
        }
      ]
    },
    {
      "cell_type": "code",
      "metadata": {
        "colab": {
          "base_uri": "https://localhost:8080/"
        },
        "id": "7aK7EEeeuFla",
        "outputId": "b2dc51bf-a6f5-42b5-fcaa-9390c63dae02"
      },
      "source": [
        "model.predict(test_ds)[0]"
      ],
      "execution_count": 7,
      "outputs": [
        {
          "output_type": "execute_result",
          "data": {
            "text/plain": [
              "array([0.83601135, 0.16398862], dtype=float32)"
            ]
          },
          "metadata": {
            "tags": []
          },
          "execution_count": 7
        }
      ]
    },
    {
      "cell_type": "code",
      "metadata": {
        "colab": {
          "base_uri": "https://localhost:8080/"
        },
        "id": "xe8hj5B9uGHI",
        "outputId": "eab5cb24-1709-4a7f-be80-e5cbda4a8c8f"
      },
      "source": [
        "model.predict(test_ds)[0]"
      ],
      "execution_count": 8,
      "outputs": [
        {
          "output_type": "execute_result",
          "data": {
            "text/plain": [
              "array([0.9331869, 0.0668131], dtype=float32)"
            ]
          },
          "metadata": {
            "tags": []
          },
          "execution_count": 8
        }
      ]
    },
    {
      "cell_type": "code",
      "metadata": {
        "colab": {
          "base_uri": "https://localhost:8080/"
        },
        "id": "zCRqumzxuIBp",
        "outputId": "31067631-c224-4578-c6ac-d7ff7137a2e5"
      },
      "source": [
        "model.predict(test_ds)[0]"
      ],
      "execution_count": 9,
      "outputs": [
        {
          "output_type": "execute_result",
          "data": {
            "text/plain": [
              "array([2.8840926e-18, 1.0000000e+00], dtype=float32)"
            ]
          },
          "metadata": {
            "tags": []
          },
          "execution_count": 9
        }
      ]
    },
    {
      "cell_type": "code",
      "metadata": {
        "colab": {
          "base_uri": "https://localhost:8080/"
        },
        "id": "N2gR1V6HuHr6",
        "outputId": "9349cbbf-1449-4ebe-913f-3ebdba1ff8c7"
      },
      "source": [
        "model.predict(test_ds)[0]"
      ],
      "execution_count": 10,
      "outputs": [
        {
          "output_type": "execute_result",
          "data": {
            "text/plain": [
              "array([0.9972692 , 0.00273071], dtype=float32)"
            ]
          },
          "metadata": {
            "tags": []
          },
          "execution_count": 10
        }
      ]
    },
    {
      "cell_type": "code",
      "metadata": {
        "colab": {
          "base_uri": "https://localhost:8080/"
        },
        "id": "59pqYnPEuJyn",
        "outputId": "74f7b820-6a47-48b6-9b21-fd7ec018a368"
      },
      "source": [
        "model.predict(test_ds)[0]"
      ],
      "execution_count": 11,
      "outputs": [
        {
          "output_type": "execute_result",
          "data": {
            "text/plain": [
              "array([1.2084037e-12, 1.0000000e+00], dtype=float32)"
            ]
          },
          "metadata": {
            "tags": []
          },
          "execution_count": 11
        }
      ]
    },
    {
      "cell_type": "code",
      "metadata": {
        "colab": {
          "base_uri": "https://localhost:8080/"
        },
        "id": "LFYPcPLmuKoQ",
        "outputId": "faa9d19b-34e3-4b92-f52a-04c7dfbbf45a"
      },
      "source": [
        "model.predict(test_ds)[0]"
      ],
      "execution_count": 12,
      "outputs": [
        {
          "output_type": "execute_result",
          "data": {
            "text/plain": [
              "array([1.6487637e-04, 9.9983513e-01], dtype=float32)"
            ]
          },
          "metadata": {
            "tags": []
          },
          "execution_count": 12
        }
      ]
    }
  ]
}